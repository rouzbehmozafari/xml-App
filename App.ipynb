{
 "cells": [
  {
   "cell_type": "markdown",
   "metadata": {},
   "source": [
    "importing modules and files"
   ]
  },
  {
   "cell_type": "code",
   "execution_count": 1,
   "metadata": {},
   "outputs": [],
   "source": [
    "import xml.etree.ElementTree as ET \n",
    "import re\n",
    "from Api.apiRequests import getJobListings\n",
    "from operatingSys.servieces import importXml\n"
   ]
  },
  {
   "cell_type": "markdown",
   "metadata": {},
   "source": [
    "Importing and providing the xml data from server to local, then parsing to be usable"
   ]
  },
  {
   "cell_type": "code",
   "execution_count": 2,
   "metadata": {},
   "outputs": [],
   "source": [
    "url = 'http://localhost:8080/' #source XML address\n",
    "xmlData = getJobListings(url)\n",
    "\n"
   ]
  },
  {
   "cell_type": "code",
   "execution_count": 3,
   "metadata": {},
   "outputs": [],
   "source": [
    "xmlFolderAddress = \"xmlFiles/fetchedXml.xml\" # the target folder that we have imported our xml response\n",
    "\n",
    "importXml(xmlFolderAddress,xmlData) #writes the fetched xml to desired address\n",
    "# removine empty lines\n",
    "# with open(xmlFolderAddress) as xmlfile:\n",
    "#     lines = [line for line in xmlfile if line.strip() is not \"\"]\n",
    "\n",
    "# with open(xmlFolderAddress, \"w\") as xmlfile:\n",
    "#     xmlfile.writelines(lines)\n",
    "\n",
    "root = ET.parse(xmlFolderAddress).getroot()"
   ]
  },
  {
   "cell_type": "code",
   "execution_count": null,
   "metadata": {},
   "outputs": [],
   "source": [
    "# to validate the RGB color\n",
    "_rgbstring = re.compile(r'#[a-fA-F0-9]{6}$')\n",
    "\n",
    "def isrgbcolor(value):\n",
    "    return bool(_rgbstring.match(value))"
   ]
  },
  {
   "cell_type": "markdown",
   "metadata": {},
   "source": [
    "Extracting xml tags to variables:\n",
    "ex:\n",
    "    jobTitle = 'Python Entwickler '\n",
    "    responsibilities = '...'"
   ]
  },
  {
   "cell_type": "code",
   "execution_count": 18,
   "metadata": {},
   "outputs": [
    {
     "name": "stdout",
     "output_type": "stream",
     "text": [
      "jobTitle,imageUrl,companyName,locationList,introduction,introductionTitle,responsibilities,responsibilitiesTitle,qualifications,qualificationsTitle,we_offer,we_offerTitle,contact_data,contact_dataTitle,heading_color,applyUrl ===> are extracted as variables\n"
     ]
    }
   ],
   "source": [
    "for joblisting in root:\n",
    "    for i in (joblisting.iter('language')):\n",
    "        if i.text == 'DE': \n",
    "            for elem in joblisting.findall('job_data/jobtitle'):\n",
    "                jobTitle = elem.text.replace('\\n', '')\n",
    "            for elem in joblisting.findall('job_data/layout_data/images/header'):\n",
    "                imageUrl = elem.text\n",
    "            for elem in joblisting.findall('job_data/company_data/companyname'):\n",
    "                companyName = elem.text.replace('\\n', '')\n",
    "            \n",
    "            # City list\n",
    "            locationList = []\n",
    "            for location in joblisting.findall('job_data/joblocations/location'):\n",
    "                for cityName in joblisting.findall('job_data/joblocations/location/city'):\n",
    "                    city = cityName.text\n",
    "                    city = city.replace(' ', '')\n",
    "                    city = city.replace('\\n', '')\n",
    "\n",
    "                    if len(joblisting.findall('job_data/joblocations/location/postalcode')) != 0 :\n",
    "                        for location in location.iter('postalcode'):\n",
    "                            postalCode = location.text\n",
    "                            postalCode = postalCode.replace(' ', '')\n",
    "                            postalCode = postalCode.replace('\\n', '')\n",
    "                            cityAndZip = postalCode +','+ city\n",
    "                            locationList.append(cityAndZip)\n",
    "                    else:\n",
    "                            cityAndZip = city\n",
    "                            locationList.append(cityAndZip)\n",
    "                    \n",
    "            # Contents\n",
    "            for elem in joblisting.findall('job_data/introduction'):\n",
    "                introduction = elem.text\n",
    "                introductionTitle = elem.get('title')\n",
    "            for elem in joblisting.findall('job_data/responsibilities'):\n",
    "                responsibilities = elem.text\n",
    "                responsibilitiesTitle = elem.get('title')\n",
    "            for elem in joblisting.findall('job_data/qualifications'):\n",
    "                qualifications = elem.text\n",
    "                qualificationsTitle = elem.get('title')\n",
    "            for elem in joblisting.findall('job_data/we_offer'):\n",
    "                we_offer = elem.text\n",
    "                we_offerTitle = elem.get('title')\n",
    "            for elem in joblisting.findall('job_data/contact_data'):\n",
    "                contact_data = elem.text\n",
    "                contact_dataTitle = elem.get('title')\n",
    "            for elem in joblisting.findall('job_data/layout_data/colors/heading_color'):\n",
    "                heading_color = elem.text.replace('\\n', '').replace(' ', '')\n",
    "            for elem in joblisting.findall('job_data/application_procedure/url'):\n",
    "                applyUrl = elem.text\n",
    "            \n",
    "\n",
    "            \n",
    "            # making HTML files from above variables\n",
    "            \n",
    "            \n",
    "            #if introductionTitle == 'None':\n",
    "            #if introductionTitle == 'None':\n",
    "            #if introductionTitle == 'None':\n",
    "            #if introductionTitle == 'None':\n",
    "            # def create_page():\n",
    "            #     doc = dominate.document(title = jobtitle)\n",
    "            #     print(doc)\n",
    "            # create_page()"
   ]
  }
 ],
 "metadata": {
  "interpreter": {
   "hash": "27f72e10ec66dcd6c2360b60209f6ff734be895f102c4c46dcc03bb34cf059e2"
  },
  "kernelspec": {
   "display_name": "Python 3.8.8 ('base')",
   "language": "python",
   "name": "python3"
  },
  "language_info": {
   "codemirror_mode": {
    "name": "ipython",
    "version": 3
   },
   "file_extension": ".py",
   "mimetype": "text/x-python",
   "name": "python",
   "nbconvert_exporter": "python",
   "pygments_lexer": "ipython3",
   "version": "3.8.8"
  },
  "orig_nbformat": 4
 },
 "nbformat": 4,
 "nbformat_minor": 2
}
