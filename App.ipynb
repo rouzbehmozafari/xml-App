{
 "cells": [
  {
   "cell_type": "markdown",
   "metadata": {},
   "source": [
    "importing modules and files"
   ]
  },
  {
   "cell_type": "code",
   "execution_count": 1,
   "metadata": {},
   "outputs": [],
   "source": [
    "import xml.etree.ElementTree as ET \n",
    "from Api.apiRequests import getJobListings\n",
    "from operatingSys.servieces import importXml"
   ]
  },
  {
   "cell_type": "markdown",
   "metadata": {},
   "source": [
    "Importing and providing the xml data from server to local, then parsing to be usable"
   ]
  },
  {
   "cell_type": "code",
   "execution_count": 2,
   "metadata": {},
   "outputs": [],
   "source": [
    "url = 'https://kunden.jobadpartner.de/publisher/api/jobvector_2020/?accessCode=WfxGIuBy' #source XML address\n",
    "xmlData = getJobListings(url)\n",
    "\n",
    "#writes the fetched xml to desired address\n",
    "xmlFolderAddress = \"xmlFiles/fetchedXml.xml\" # the target folder that we have imported our xml response\n",
    "\n",
    "importXml(xmlFolderAddress,xmlData)\n",
    "\n",
    "root = ET.parse(xmlFolderAddress).getroot()"
   ]
  },
  {
   "cell_type": "code",
   "execution_count": 3,
   "metadata": {},
   "outputs": [
    {
     "name": "stdout",
     "output_type": "stream",
     "text": [
      "\n",
      "\n",
      "            <p>Datics Consulting is a growing technology service startup in Cloud, DevOps, IT-Outsourcing, Data Engineering, and AI.</p><p><br/>&amp;amp;nbsp;</p><p>Cloud and Devops themes are your passion?<br/>Datics Consulting is searching for M&amp;amp;uuml;nchen, Frankfurt, D&amp;amp;uuml;sseldorf, Berlin or Remote -</p><p>Consultants for Cloud Engineering (m/f/d)</p> \n",
      "\n",
      "        \n"
     ]
    }
   ],
   "source": [
    "for joblisting in root:\n",
    "    for i in (joblisting.iter('language')):\n",
    "        if i.text == 'EN': #this will be changed to not equal to in later commits\n",
    "            for elem in joblisting.iter('introduction'):\n",
    "                print(elem.text)"
   ]
  }
 ],
 "metadata": {
  "interpreter": {
   "hash": "27f72e10ec66dcd6c2360b60209f6ff734be895f102c4c46dcc03bb34cf059e2"
  },
  "kernelspec": {
   "display_name": "Python 3.8.8 ('base')",
   "language": "python",
   "name": "python3"
  },
  "language_info": {
   "codemirror_mode": {
    "name": "ipython",
    "version": 3
   },
   "file_extension": ".py",
   "mimetype": "text/x-python",
   "name": "python",
   "nbconvert_exporter": "python",
   "pygments_lexer": "ipython3",
   "version": "3.8.8"
  },
  "orig_nbformat": 4
 },
 "nbformat": 4,
 "nbformat_minor": 2
}
