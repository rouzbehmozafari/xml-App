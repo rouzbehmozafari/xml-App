{
 "cells": [
  {
   "cell_type": "markdown",
   "metadata": {},
   "source": [
    "importing modules and files"
   ]
  },
  {
   "cell_type": "code",
   "execution_count": 1,
   "metadata": {},
   "outputs": [],
   "source": [
    "import xml.etree.ElementTree as ET \n",
    "import re\n",
    "import html\n",
    "from Api.apiRequests import getJobListings\n",
    "from operatingSys.servieces import importXml\n",
    "from xml.sax.saxutils import unescape"
   ]
  },
  {
   "cell_type": "markdown",
   "metadata": {},
   "source": [
    "Importing and providing the xml data from server to local, then parsing to be usable"
   ]
  },
  {
   "cell_type": "code",
   "execution_count": 2,
   "metadata": {},
   "outputs": [],
   "source": [
    "url = 'http://localhost:8080/' #source XML address\n",
    "xmlData = getJobListings(url)"
   ]
  },
  {
   "cell_type": "code",
   "execution_count": 3,
   "metadata": {},
   "outputs": [],
   "source": [
    "xmlFolderAddress = \"xmlFiles/fetchedXml.xml\" # the target folder that we have imported our xml response\n",
    "\n",
    "importXml(xmlFolderAddress,xmlData) #writes the fetched xml to desired address\n",
    "root = ET.parse(xmlFolderAddress).getroot()"
   ]
  },
  {
   "cell_type": "code",
   "execution_count": 4,
   "metadata": {},
   "outputs": [],
   "source": [
    "# to validate the RGB color\n",
    "_rgbstring = re.compile(r'#[a-fA-F0-9]{6}$')\n",
    "\n",
    "def isrgbcolor(value):\n",
    "    return bool(_rgbstring.match(value))"
   ]
  },
  {
   "cell_type": "code",
   "execution_count": 5,
   "metadata": {},
   "outputs": [],
   "source": [
    "import dominate\n",
    "from dominate.tags import *"
   ]
  },
  {
   "cell_type": "markdown",
   "metadata": {},
   "source": [
    "Extracting xml tags to variables:\n",
    "ex:\n",
    "    jobTitle = 'Python Entwickler '\n",
    "    responsibilities = '...'"
   ]
  },
  {
   "cell_type": "code",
   "execution_count": 53,
   "metadata": {},
   "outputs": [],
   "source": [
    "def colorDifiner(element,col):\n",
    "    if isrgbcolor(col):\n",
    "        element['style'] = \"color : {color}\".format(color=col)"
   ]
  },
  {
   "cell_type": "code",
   "execution_count": 52,
   "metadata": {},
   "outputs": [],
   "source": [
    "imageUrl = ''\n",
    "heading_color = ''\n",
    "for joblisting in root:\n",
    "    for i in (joblisting.iter('language')):\n",
    "        if i.text == 'DE': \n",
    "            unique_job_id = joblisting.get('unique_job_id')\n",
    "            for elem in joblisting.findall('job_data/jobtitle'):\n",
    "                jobTitle = elem.text.replace('\\n', '')\n",
    "            for elem in joblisting.findall('job_data/layout_data/images/header'):\n",
    "                imageUrl = elem.text\n",
    "            for elem in joblisting.findall('job_data/company_data/companyname'):\n",
    "                companyName = elem.text.replace('\\n', '')\n",
    "            \n",
    "            # City list\n",
    "            locationList = []\n",
    "            for location in joblisting.findall('job_data/joblocations/location'):\n",
    "                for cityName in joblisting.findall('job_data/joblocations/location/city'):\n",
    "                    city = cityName.text\n",
    "                    city = city.replace(' ', '')\n",
    "                    city = city.replace('\\n', '')\n",
    "\n",
    "                    if len(joblisting.findall('job_data/joblocations/location/postalcode')) != 0 :\n",
    "                        for location in location.iter('postalcode'):\n",
    "                            postalCode = location.text\n",
    "                            postalCode = postalCode.replace(' ', '')\n",
    "                            postalCode = postalCode.replace('\\n', '')\n",
    "                            cityAndZip = postalCode +','+ city\n",
    "                            locationList.append(cityAndZip)\n",
    "                    else:\n",
    "                            cityAndZip = city\n",
    "                            locationList.append(cityAndZip)\n",
    "                    \n",
    "            # Contents\n",
    "            for elem in joblisting.findall('job_data/introduction'):\n",
    "                introduction = elem.text\n",
    "                introductionTitle = elem.get('title')\n",
    "            for elem in joblisting.findall('job_data/responsibilities'):\n",
    "                responsibilities = elem.text\n",
    "                responsibilitiesTitle = elem.get('title')\n",
    "            for elem in joblisting.findall('job_data/qualifications'):\n",
    "                qualifications = elem.text\n",
    "                qualificationsTitle = elem.get('title')\n",
    "            for elem in joblisting.findall('job_data/we_offer'):\n",
    "                we_offer = elem.text\n",
    "                we_offerTitle = elem.get('title')\n",
    "            for elem in joblisting.findall('job_data/contact_data'):\n",
    "                contact_data = elem.text\n",
    "                contact_dataTitle = elem.get('title')\n",
    "            # color\n",
    "            for elem in joblisting.findall('job_data/layout_data/colors/heading_color'):\n",
    "                heading_color = elem.text.replace('\\n', '').replace(' ', '')\n",
    "            for elem in joblisting.findall('job_data/application_procedure/url'):\n",
    "                applyUrl = elem.text\n",
    "            \n",
    "\n",
    "            \n",
    "            # making HTML files from above variables\n",
    "\n",
    "            def create_page(\n",
    "                unique_job_id,jobTitle,imageUrl,companyName,locationList,introduction,introductionTitle,responsibilities,responsibilitiesTitle,qualifications,qualificationsTitle,we_offer,we_offerTitle,contact_data,contact_dataTitle,heading_color,applyUrl\n",
    "            ):\n",
    "                doc = dominate.document(title = jobTitle)\n",
    "                _div = doc.body.add(div(cls=\"joblisting\" , id=unique_job_id))\n",
    "                if len(imageUrl) > 0:\n",
    "                    _image =_div.add(img(src=imageUrl))\n",
    "                _h1 = _div.add(h1(jobTitle))\n",
    "                _h2 = _div.add(h2(companyName))\n",
    "                citiesAll = ''\n",
    "                if len(locationList) > 1:\n",
    "                    for city in locationList:\n",
    "                        citiesAll = citiesAll + city + ','\n",
    "                else:\n",
    "                    citiesAll = locationList[0]\n",
    "                _pCityNames = _div.add(p(citiesAll))\n",
    "                _divContents = _div.add(div(cls=\"content_sections\"))\n",
    "                if introductionTitle :\n",
    "                    h2IntroductionTitle = _divContents.add(h2(introductionTitle))\n",
    "                    colorDifiner(h2IntroductionTitle,heading_color)\n",
    "                _pIntroduction = _divContents.add(p(introduction))\n",
    "                if responsibilitiesTitle :\n",
    "                    _divContents.add(h2(responsibilitiesTitle))\n",
    "                _pResponsibility = _divContents.add(p(responsibilities))\n",
    "                if qualificationsTitle :\n",
    "                    _divContents.add(h2(qualificationsTitle))\n",
    "                _pQualificcations = _divContents.add(p(qualifications))\n",
    "                if we_offerTitle :\n",
    "                    _divContents.add(h2(we_offerTitle))\n",
    "                _pWe_offer = _divContents.add(p(we_offer))\n",
    "                if contact_dataTitle :\n",
    "                    _divContents.add(h2(contact_dataTitle))\n",
    "                _pContact_data = _divContents.add(p(contact_data))\n",
    "                \n",
    "                \n",
    "                HtmlFileAddress = \"outputs/id_{address}.html\".format(address=unique_job_id)\n",
    "\n",
    "                # doc = str(doc).replace('&lt;', '<').replace('&gt;', '>').replace('&amp;', '&')\n",
    "                doc = html.unescape(str(doc))\n",
    "                with open(HtmlFileAddress,'a') as f:\n",
    "                    # delete the old xml content\n",
    "                    f.seek(0)  # sets  point at the beginning of the file\n",
    "                    f.truncate()  # Clear previous content\n",
    "                    # writing new data\n",
    "                    f.write(str(doc))\n",
    "                    f.close() # Close file\n",
    "            create_page(\n",
    "                unique_job_id,jobTitle,imageUrl,companyName,locationList,introduction,introductionTitle,responsibilities,responsibilitiesTitle,qualifications,qualificationsTitle,we_offer,we_offerTitle,contact_data,contact_dataTitle,heading_color,applyUrl\n",
    "            )"
   ]
  }
 ],
 "metadata": {
  "interpreter": {
   "hash": "27f72e10ec66dcd6c2360b60209f6ff734be895f102c4c46dcc03bb34cf059e2"
  },
  "kernelspec": {
   "display_name": "Python 3.8.8 ('base')",
   "language": "python",
   "name": "python3"
  },
  "language_info": {
   "codemirror_mode": {
    "name": "ipython",
    "version": 3
   },
   "file_extension": ".py",
   "mimetype": "text/x-python",
   "name": "python",
   "nbconvert_exporter": "python",
   "pygments_lexer": "ipython3",
   "version": "3.8.8"
  },
  "orig_nbformat": 4
 },
 "nbformat": 4,
 "nbformat_minor": 2
}
